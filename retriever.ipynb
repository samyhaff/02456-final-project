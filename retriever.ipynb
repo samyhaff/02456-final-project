{
  "nbformat": 4,
  "nbformat_minor": 0,
  "metadata": {
    "colab": {
      "provenance": []
    },
    "kernelspec": {
      "name": "python3",
      "display_name": "Python 3"
    },
    "language_info": {
      "name": "python"
    }
  },
  "cells": [
    {
      "cell_type": "code",
      "execution_count": null,
      "metadata": {
        "id": "fUYCp7d5SzBy"
      },
      "outputs": [],
      "source": [
        "! pip install elasticsearch==7.7.1\n",
        "! pip install datasets\n",
        "\n",
        "! wget https://artifacts.elastic.co/downloads/elasticsearch/elasticsearch-7.7.1-linux-x86_64.tar.gz\n",
        "! tar -xzvf elasticsearch-7.7.1-linux-x86_64.tar.gz\n",
        "\n",
        " import datasets\n",
        " from lfqa_utils import *\n",
        " from eli5_utils import *\n",
        " import json"
      ]
    },
    {
      "cell_type": "code",
      "source": [
        "es_client = Elasticsearch(\"http://localhost:9200\")"
      ],
      "metadata": {
        "id": "oCK8OVL9Uj2i"
      },
      "execution_count": null,
      "outputs": []
    },
    {
      "cell_type": "code",
      "source": [
        "wiki40b_snippets = datasets.load_from_disk(\"../wiki40b/train\")\n",
        "eli5 = datasets.load_from_disk(\"../eli5_dataset/\")"
      ],
      "metadata": {
        "id": "M2Z4KrfjVB83"
      },
      "execution_count": null,
      "outputs": []
    },
    {
      "cell_type": "code",
      "source": [
        "question = eli5['test_eli5'][np.random.randint(0, len(eli5['test_eli5']))]['title']\n",
        "doc, res_list = query_es_index(question, es_client, index_name='wiki40b_snippets_100w')\n",
        "\n",
        "df = pd.DataFrame({\n",
        "    'Article': ['---'] + [res['article_title'] for res in res_list],\n",
        "    'Sections': ['---'] + [res['section_title'] if res['section_title'].strip() != '' else res['article_title']\n",
        "                 for res in res_list],\n",
        "    'Text': ['--- ' + question] + [res['passage_text'] for res in res_list],\n",
        "})\n",
        "\n",
        "df"
      ],
      "metadata": {
        "id": "B2o72srUVJh1"
      },
      "execution_count": null,
      "outputs": []
    },
    {
      "cell_type": "code",
      "source": [
        "# same code for the askh and eli5 subsets\n",
        "\n",
        "eli5_train_docs = []\n",
        "for example in eli5[\"train_asks\"]:\n",
        "    support_doc, res_list = query_es_index(example[\"title\"], es_client, index_name=\"wiki40b_snippets_100w\")\n",
        "    eli5_train_docs += [(example[\"q_id\"], support_doc, res_list)]\n",
        "\n",
        "eli5_valid_docs = []\n",
        "for example in eli5[\"validation_asks\"]:\n",
        "    support_doc, res_list = query_es_index(example[\"title\"], es_client, index_name=\"wiki40b_snippets_100w\")\n",
        "    eli5_valid_docs += [(example[\"q_id\"], support_doc, res_list)]\n",
        "\n",
        "with open(\"train_asks.json\", \"w\") as f:\n",
        "    json.dump(eli5_train_docs, f)\n",
        "\n",
        "with open(\"valid_asks.json\", \"w\") as f:\n",
        "    json.dump(eli5_valid_docs, f)"
      ],
      "metadata": {
        "id": "vBL4QiPhgGIE"
      },
      "execution_count": null,
      "outputs": []
    },
    {
      "cell_type": "code",
      "source": [],
      "metadata": {
        "id": "apqVkFCugyRq"
      },
      "execution_count": null,
      "outputs": []
    }
  ]
}